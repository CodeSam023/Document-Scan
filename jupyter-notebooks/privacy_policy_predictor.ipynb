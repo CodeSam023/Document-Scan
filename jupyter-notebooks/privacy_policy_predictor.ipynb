{
 "cells": [
  {
   "cell_type": "code",
   "execution_count": 32,
   "metadata": {},
   "outputs": [],
   "source": [
    "import pandas as pd"
   ]
  },
  {
   "cell_type": "code",
   "execution_count": 33,
   "metadata": {},
   "outputs": [],
   "source": [
    "#importing the dataframe\n",
    "df = pd.read_csv(\"./Data/Data.csv\")"
   ]
  },
  {
   "cell_type": "code",
   "execution_count": 34,
   "metadata": {},
   "outputs": [
    {
     "data": {
      "text/html": [
       "<div>\n",
       "<style scoped>\n",
       "    .dataframe tbody tr th:only-of-type {\n",
       "        vertical-align: middle;\n",
       "    }\n",
       "\n",
       "    .dataframe tbody tr th {\n",
       "        vertical-align: top;\n",
       "    }\n",
       "\n",
       "    .dataframe thead th {\n",
       "        text-align: right;\n",
       "    }\n",
       "</style>\n",
       "<table border=\"1\" class=\"dataframe\">\n",
       "  <thead>\n",
       "    <tr style=\"text-align: right;\">\n",
       "      <th></th>\n",
       "      <th>Privacy Text</th>\n",
       "      <th>Score</th>\n",
       "    </tr>\n",
       "  </thead>\n",
       "  <tbody>\n",
       "    <tr>\n",
       "      <th>0</th>\n",
       "      <td>We are unable to respond to Do Not Track signa...</td>\n",
       "      <td>1</td>\n",
       "    </tr>\n",
       "    <tr>\n",
       "      <th>1</th>\n",
       "      <td>These tracking technologies collect informatio...</td>\n",
       "      <td>1</td>\n",
       "    </tr>\n",
       "    <tr>\n",
       "      <th>2</th>\n",
       "      <td>We and our third-party partners may also use c...</td>\n",
       "      <td>1</td>\n",
       "    </tr>\n",
       "    <tr>\n",
       "      <th>3</th>\n",
       "      <td>Company may share data collected from or about...</td>\n",
       "      <td>1</td>\n",
       "    </tr>\n",
       "    <tr>\n",
       "      <th>4</th>\n",
       "      <td>In the event that the company is involved in a...</td>\n",
       "      <td>1</td>\n",
       "    </tr>\n",
       "  </tbody>\n",
       "</table>\n",
       "</div>"
      ],
      "text/plain": [
       "                                        Privacy Text  Score\n",
       "0  We are unable to respond to Do Not Track signa...      1\n",
       "1  These tracking technologies collect informatio...      1\n",
       "2  We and our third-party partners may also use c...      1\n",
       "3  Company may share data collected from or about...      1\n",
       "4  In the event that the company is involved in a...      1"
      ]
     },
     "execution_count": 34,
     "metadata": {},
     "output_type": "execute_result"
    }
   ],
   "source": [
    "df.head()"
   ]
  },
  {
   "cell_type": "code",
   "execution_count": 35,
   "metadata": {},
   "outputs": [
    {
     "data": {
      "text/plain": [
       "(227, 2)"
      ]
     },
     "execution_count": 35,
     "metadata": {},
     "output_type": "execute_result"
    }
   ],
   "source": [
    "df.shape"
   ]
  },
  {
   "cell_type": "code",
   "execution_count": 36,
   "metadata": {},
   "outputs": [
    {
     "name": "stdout",
     "output_type": "stream",
     "text": [
      "<class 'pandas.core.frame.DataFrame'>\n",
      "RangeIndex: 227 entries, 0 to 226\n",
      "Data columns (total 2 columns):\n",
      " #   Column        Non-Null Count  Dtype \n",
      "---  ------        --------------  ----- \n",
      " 0   Privacy Text  227 non-null    object\n",
      " 1   Score         227 non-null    int64 \n",
      "dtypes: int64(1), object(1)\n",
      "memory usage: 3.7+ KB\n"
     ]
    }
   ],
   "source": [
    "df.info()"
   ]
  },
  {
   "cell_type": "markdown",
   "metadata": {},
   "source": [
    "### Text preprocessing"
   ]
  },
  {
   "cell_type": "markdown",
   "metadata": {},
   "source": [
    "#### Removing Punctuations and converting all word to lowercase"
   ]
  },
  {
   "cell_type": "code",
   "execution_count": 37,
   "metadata": {},
   "outputs": [],
   "source": [
    "import string\n",
    "import nltk\n",
    "\n",
    "\n",
    "def remove_punctuation(text):\n",
    "    no_punctuation_text = ''.join([i for i in str(text) if i not in string.punctuation])\n",
    "    return no_punctuation_text.lower()"
   ]
  },
  {
   "cell_type": "code",
   "execution_count": 38,
   "metadata": {},
   "outputs": [],
   "source": [
    "df['Privacy Text'] = df['Privacy Text'].apply(remove_punctuation)"
   ]
  },
  {
   "cell_type": "code",
   "execution_count": 39,
   "metadata": {},
   "outputs": [
    {
     "data": {
      "text/html": [
       "<div>\n",
       "<style scoped>\n",
       "    .dataframe tbody tr th:only-of-type {\n",
       "        vertical-align: middle;\n",
       "    }\n",
       "\n",
       "    .dataframe tbody tr th {\n",
       "        vertical-align: top;\n",
       "    }\n",
       "\n",
       "    .dataframe thead th {\n",
       "        text-align: right;\n",
       "    }\n",
       "</style>\n",
       "<table border=\"1\" class=\"dataframe\">\n",
       "  <thead>\n",
       "    <tr style=\"text-align: right;\">\n",
       "      <th></th>\n",
       "      <th>Privacy Text</th>\n",
       "      <th>Score</th>\n",
       "    </tr>\n",
       "  </thead>\n",
       "  <tbody>\n",
       "    <tr>\n",
       "      <th>0</th>\n",
       "      <td>we are unable to respond to do not track signa...</td>\n",
       "      <td>1</td>\n",
       "    </tr>\n",
       "    <tr>\n",
       "      <th>1</th>\n",
       "      <td>these tracking technologies collect informatio...</td>\n",
       "      <td>1</td>\n",
       "    </tr>\n",
       "    <tr>\n",
       "      <th>2</th>\n",
       "      <td>we and our thirdparty partners may also use co...</td>\n",
       "      <td>1</td>\n",
       "    </tr>\n",
       "    <tr>\n",
       "      <th>3</th>\n",
       "      <td>company may share data collected from or about...</td>\n",
       "      <td>1</td>\n",
       "    </tr>\n",
       "    <tr>\n",
       "      <th>4</th>\n",
       "      <td>in the event that the company is involved in a...</td>\n",
       "      <td>1</td>\n",
       "    </tr>\n",
       "  </tbody>\n",
       "</table>\n",
       "</div>"
      ],
      "text/plain": [
       "                                        Privacy Text  Score\n",
       "0  we are unable to respond to do not track signa...      1\n",
       "1  these tracking technologies collect informatio...      1\n",
       "2  we and our thirdparty partners may also use co...      1\n",
       "3  company may share data collected from or about...      1\n",
       "4  in the event that the company is involved in a...      1"
      ]
     },
     "execution_count": 39,
     "metadata": {},
     "output_type": "execute_result"
    }
   ],
   "source": [
    "df.head()"
   ]
  },
  {
   "cell_type": "markdown",
   "metadata": {},
   "source": [
    "#### Removing nonwords and reducing word to it's lemma"
   ]
  },
  {
   "cell_type": "code",
   "execution_count": 40,
   "metadata": {},
   "outputs": [],
   "source": [
    "import spacy\n",
    "nlp = spacy.load(\"en_core_web_sm\")"
   ]
  },
  {
   "cell_type": "code",
   "execution_count": 41,
   "metadata": {},
   "outputs": [],
   "source": [
    "import re \n",
    "\n",
    "def remove_nonwords(str_):\n",
    "    return re.sub(\"[^A-Za-z ]\\w+[^A-Za-z]*\", ' ', str_)\n",
    "\n",
    "# Lemmatization and Removing stop words and non words\n",
    "def text_preprocessing(text):\n",
    "    text = remove_nonwords(text)\n",
    "    tokenized_text = [token.lemma_ for token in nlp(text)]\n",
    "    no_stopwords_list = [i.lower() for i in tokenized_text if i not in nlp.Defaults.stop_words]\n",
    "    lemma_text = ' '.join(no_stopwords_list)\n",
    "    return lemma_text"
   ]
  },
  {
   "cell_type": "code",
   "execution_count": 42,
   "metadata": {},
   "outputs": [],
   "source": [
    "# Preprocessing the Headline text\n",
    "df['Privacy Text'] = df['Privacy Text'].apply(text_preprocessing)"
   ]
  },
  {
   "cell_type": "code",
   "execution_count": 43,
   "metadata": {},
   "outputs": [
    {
     "data": {
      "text/html": [
       "<div>\n",
       "<style scoped>\n",
       "    .dataframe tbody tr th:only-of-type {\n",
       "        vertical-align: middle;\n",
       "    }\n",
       "\n",
       "    .dataframe tbody tr th {\n",
       "        vertical-align: top;\n",
       "    }\n",
       "\n",
       "    .dataframe thead th {\n",
       "        text-align: right;\n",
       "    }\n",
       "</style>\n",
       "<table border=\"1\" class=\"dataframe\">\n",
       "  <thead>\n",
       "    <tr style=\"text-align: right;\">\n",
       "      <th></th>\n",
       "      <th>Privacy Text</th>\n",
       "      <th>Score</th>\n",
       "    </tr>\n",
       "  </thead>\n",
       "  <tbody>\n",
       "    <tr>\n",
       "      <th>0</th>\n",
       "      <td>unable respond track signal set browser time</td>\n",
       "      <td>1</td>\n",
       "    </tr>\n",
       "    <tr>\n",
       "      <th>1</th>\n",
       "      <td>track technology collect information use servi...</td>\n",
       "      <td>1</td>\n",
       "    </tr>\n",
       "    <tr>\n",
       "      <th>2</th>\n",
       "      <td>thirdparty partner use cookie tracking technol...</td>\n",
       "      <td>1</td>\n",
       "    </tr>\n",
       "    <tr>\n",
       "      <th>3</th>\n",
       "      <td>company share datum collect party partner faci...</td>\n",
       "      <td>1</td>\n",
       "    </tr>\n",
       "    <tr>\n",
       "      <th>4</th>\n",
       "      <td>event company involve merger acquisition bankr...</td>\n",
       "      <td>1</td>\n",
       "    </tr>\n",
       "  </tbody>\n",
       "</table>\n",
       "</div>"
      ],
      "text/plain": [
       "                                        Privacy Text  Score\n",
       "0       unable respond track signal set browser time      1\n",
       "1  track technology collect information use servi...      1\n",
       "2  thirdparty partner use cookie tracking technol...      1\n",
       "3  company share datum collect party partner faci...      1\n",
       "4  event company involve merger acquisition bankr...      1"
      ]
     },
     "execution_count": 43,
     "metadata": {},
     "output_type": "execute_result"
    }
   ],
   "source": [
    "df.head()"
   ]
  },
  {
   "cell_type": "code",
   "execution_count": 44,
   "metadata": {},
   "outputs": [],
   "source": [
    "# dropping ALL duplicte values\n",
    "df = df.drop_duplicates()"
   ]
  },
  {
   "cell_type": "markdown",
   "metadata": {},
   "source": [
    "### Building Model"
   ]
  },
  {
   "cell_type": "markdown",
   "metadata": {},
   "source": [
    "#### Split data into train and test sets"
   ]
  },
  {
   "cell_type": "code",
   "execution_count": 45,
   "metadata": {},
   "outputs": [],
   "source": [
    "from sklearn.model_selection import train_test_split\n",
    "\n",
    "X_train_nv, X_test_nv, y_train, y_test = train_test_split(df['Privacy Text'], df['Score'], \n",
    "                                                    train_size=0.8, \n",
    "                                                    random_state=42)"
   ]
  },
  {
   "cell_type": "markdown",
   "metadata": {},
   "source": [
    "#### Vectorization"
   ]
  },
  {
   "cell_type": "code",
   "execution_count": 46,
   "metadata": {},
   "outputs": [],
   "source": [
    "from nltk.corpus import stopwords\n",
    "from sklearn.feature_extraction.text import TfidfVectorizer, CountVectorizer\n",
    "from sklearn.feature_selection import SelectKBest, chi2\n",
    "\n",
    "vectorizer = TfidfVectorizer(max_features=500,stop_words=stopwords.words('english'))\n",
    "X_train = vectorizer.fit_transform(X_train_nv).toarray()\n",
    "X_test = vectorizer.transform(X_test_nv)"
   ]
  },
  {
   "cell_type": "code",
   "execution_count": 48,
   "metadata": {},
   "outputs": [],
   "source": [
    "#vectorizer = CountVectorizer(ngram_range = (3,3))\n",
    "vectorizer = CountVectorizer()\n",
    "X_train = vectorizer.fit_transform(X_train_nv) \n",
    "X_test = vectorizer.transform(X_test_nv) \n",
    "features = (vectorizer.get_feature_names())"
   ]
  },
  {
   "cell_type": "code",
   "execution_count": 49,
   "metadata": {},
   "outputs": [],
   "source": [
    "#Save the vectorizer and feature Selector\n",
    "import pickle\n",
    "\n",
    "pickle.dump(vectorizer, open(\"./Model/vectorizer.pkl\", \"wb\"))"
   ]
  },
  {
   "cell_type": "markdown",
   "metadata": {},
   "source": [
    "#### Training the model"
   ]
  },
  {
   "cell_type": "code",
   "execution_count": 50,
   "metadata": {},
   "outputs": [
    {
     "name": "stdout",
     "output_type": "stream",
     "text": [
      "\n",
      "Logistic Regression Algorithm\n",
      "\n",
      "Confusion Matrix: \n",
      " [[16 10]\n",
      " [ 8 12]]\n",
      "Classification Report: \n",
      "               precision    recall  f1-score   support\n",
      "\n",
      "           0       0.67      0.62      0.64        26\n",
      "           1       0.55      0.60      0.57        20\n",
      "\n",
      "    accuracy                           0.61        46\n",
      "   macro avg       0.61      0.61      0.61        46\n",
      "weighted avg       0.61      0.61      0.61        46\n",
      "\n",
      "Accuracy Score: \n",
      " 0.6086956521739131\n",
      "\n",
      "Stochastic Gradient Descent Algorithm\n",
      "\n",
      "Confusion Matrix: \n",
      " [[19  7]\n",
      " [ 8 12]]\n",
      "Classification Report: \n",
      "               precision    recall  f1-score   support\n",
      "\n",
      "           0       0.70      0.73      0.72        26\n",
      "           1       0.63      0.60      0.62        20\n",
      "\n",
      "    accuracy                           0.67        46\n",
      "   macro avg       0.67      0.67      0.67        46\n",
      "weighted avg       0.67      0.67      0.67        46\n",
      "\n",
      "Accuracy Score: \n",
      " 0.6739130434782609\n",
      "\n",
      "Random Forest Classifier  Algorithm\n",
      "\n",
      "Confusion Matrix: \n",
      " [[22  4]\n",
      " [ 7 13]]\n",
      "Classification Report: \n",
      "               precision    recall  f1-score   support\n",
      "\n",
      "           0       0.76      0.85      0.80        26\n",
      "           1       0.76      0.65      0.70        20\n",
      "\n",
      "    accuracy                           0.76        46\n",
      "   macro avg       0.76      0.75      0.75        46\n",
      "weighted avg       0.76      0.76      0.76        46\n",
      "\n",
      "Accuracy Score: \n",
      " 0.7608695652173914\n"
     ]
    }
   ],
   "source": [
    "from sklearn.linear_model import LogisticRegression, SGDClassifier\n",
    "from sklearn.ensemble import RandomForestClassifier\n",
    "from sklearn.metrics import *\n",
    "from sklearn.svm import SVC\n",
    "\n",
    "LR = LogisticRegression()\n",
    "SGDC = SGDClassifier()\n",
    "RFC = RandomForestClassifier(n_estimators=300, random_state=0)\n",
    "\n",
    "# Logistic Regression\n",
    "LR.fit(X_train, y_train)\n",
    "LR_Model = LR.predict(X_test)\n",
    "print(\"\\nLogistic Regression Algorithm\\n\")\n",
    "print(\"Confusion Matrix: \\n\",confusion_matrix(y_test,LR_Model))\n",
    "print(\"Classification Report: \\n\",classification_report(y_test,LR_Model))\n",
    "print(\"Accuracy Score: \\n\",accuracy_score(y_test, LR_Model))\n",
    "\n",
    "# Stochastic Gradient Descent\n",
    "SGDC.fit(X_train, y_train)\n",
    "SGDC_Model = SGDC.predict(X_test)\n",
    "print(\"\\nStochastic Gradient Descent Algorithm\\n\")\n",
    "print(\"Confusion Matrix: \\n\",confusion_matrix(y_test,SGDC_Model))\n",
    "print(\"Classification Report: \\n\",classification_report(y_test,SGDC_Model))\n",
    "print(\"Accuracy Score: \\n\",accuracy_score(y_test, SGDC_Model))\n",
    "\n",
    "# Random Forest Classifier \n",
    "RFC.fit(X_train, y_train)\n",
    "RFC_Model = RFC.predict(X_test)\n",
    "print(\"\\nRandom Forest Classifier  Algorithm\\n\")\n",
    "print(\"Confusion Matrix: \\n\",confusion_matrix(y_test,RFC_Model))\n",
    "print(\"Classification Report: \\n\",classification_report(y_test,RFC_Model))\n",
    "print(\"Accuracy Score: \\n\",accuracy_score(y_test, RFC_Model))\n"
   ]
  },
  {
   "cell_type": "code",
   "execution_count": 51,
   "metadata": {},
   "outputs": [],
   "source": [
    "# Saving the model\n",
    "pickle.dump(RFC, open(\"./Model/Random_Forest_Classifier.pkl\", \"wb\"))"
   ]
  },
  {
   "cell_type": "markdown",
   "metadata": {},
   "source": [
    "### Trying the model in custom data"
   ]
  },
  {
   "cell_type": "code",
   "execution_count": 20,
   "metadata": {},
   "outputs": [],
   "source": [
    "sim_sentence = ['To provide the Facebook Products , we must process information about you .',\n",
    " 'The types of information we collect depend on how you use our Products .',\n",
    " 'Things you and others do and provide Information and content you provide .',\n",
    " 'We collect the content , communications and other information you provide when you use our Products , including when you sign up for an account , create or share content , and message or communicate with others .',\n",
    " 'This can include information in or about the content you provide ( like metadata ) , such as the location of a photo or the date a file was created .',\n",
    " 'Data with special protections : You can choose to provide information in your Facebook profile fields or Life Events about your religious views , political views , who you are `` interested in , `` or your health .',\n",
    " 'We collect information about the people , Pages , accounts , hash tags and groups you are connected to and how you interact with them across our Products , such as people you communicate with the most or groups you are part of .',\n",
    " 'We also collect contact information if you choose to upload , sync or import it from a device ( such as an address book or call log or SMS log history ) , which we use for things like helping you and others find people you may know and for the other purposes listed below Your usage .',\n",
    " 'We collect information about how you use our Products , such as the types of content you view or engage with ; the features you use ; the actions you take ; the people or accounts you interact with ; and the time , frequency and duration of your activities .',\n",
    " \"For example , we log when you 're using and have last used our Products , and what posts , videos and other content you view on our Products .\",\n",
    " 'We also collect information about how you use features like our camera Information about transactions made on our Products .',\n",
    " 'If you use our Products for purchases or other financial transactions ( such as when you make a purchase in a game or make a donation ) , we collect information about the purchase or transaction .',\n",
    " 'This includes payment information , such as your credit or debit card number and other card information ; other account and authentication information ; and billing , shipping and contact details Things others do and information they provide about you .',\n",
    " 'We also receive and analyze content , communications and information that other people provide when they use our Products .',\n",
    " 'For example , we use information collected about your use of our Products on your phone to better personalize the content ( including ads ) or features you see when you use our Products on another device , such as your laptop or tablet , or to measure whether you took an action in response to an ad we showed you on your phone on a different device .',\n",
    " 'Learn more about how we use cookies in the Facebook Cookies Policy and Insta gram Cookies Policy Information from partners .',\n",
    " 'These partners provide information about your activities off Facebook including information about your device , websites you visit , purchases you make , the ads you see , and how you use their services whether or not you have a Facebook account or are logged into Facebook .',\n",
    " 'Partners receive your data when you visit or use their services or through third parties they work with .',\n",
    " 'We require each of these partners to have lawful rights to collect , use and share your data before providing any data to us .',\n",
    " 'We use the information we have ( subject to choices you make ) as described below and to provide and support the Facebook Products and related services described in the Facebook Terms and Insta gram Terms .',\n",
    " 'Learn more about how we use information about you to personalize your Facebook and Insta gram experience , including features , content and recommendations in Facebook Products ; you can also learn more about how we choose the ads that you see .',\n",
    " 'Information across Facebook Products and devices : We connect information about your activities on different Facebook Products and devices to provide a more tailored and consistent experience on all Facebook Products you use , wherever you use them .',\n",
    " \"We can also make your experience more seamless , for example , by automatically filling in your registration information ( such as your phone number ) from one Facebook Product when you sign up for an account on a different Product Location related information : We use location related information such as your current location , where you live , the places you like to go , and the businesses and people you 're near to provide , personalize and improve our Products , including ads , for you and others .\",\n",
    " 'If we introduce face recognition technology to your Insta gram experience , we will let you know first , and you will have control over whether we use this technology for you Ads and other sponsored content : We use the information we have about you including information about your interests , actions and connections to select and personalize ads , offers and other sponsored content that we show you .',\n",
    " 'We use the information we have ( including your activity off our Products , such as the websites you visit and ads you see ) to help advertisers and other partners measure the effectiveness and distribution of their ads and services , and understand the types of people who use their services and how people interact with their websites , apps , and services .',\n",
    " 'Learn how we share information with these partners .',\n",
    " 'Communicate with you .',\n",
    " 'We also use your information to respond to you when you contact us .',\n",
    " 'Your information is shared with others in the following ways : Sharing on Facebook Products People and accounts you share and communicate with When you share and communicate using our Products , you choose the audience for what you share .',\n",
    " 'Similarly , when you use Messenger or Insta gram to communicate with people or businesses , those people and businesses can see the content you send .',\n",
    " 'Your network can also see actions you have taken on our Products , including engagement with ads and sponsored content .',\n",
    " \"Public information can be seen by anyone , on or off our Products , including if they do n't have an account .\",\n",
    " 'Content others share or re share about you You should consider who you choose to share with , because people who can see your activity on our Products can choose to share it with others on and off our Products , including people and businesses outside the audience you shared with .',\n",
    " 'People can also use our Products to create and share content about you with the audience they choose .',\n",
    " 'For example , people can share a photo of you in a Story , mention or tag you at a location in a post , or share information about you in their posts or messages .',\n",
    " 'Apps , websites , and third party integration s on or using our Products .',\n",
    " 'When you choose to use third party apps , websites , or other services that use , or are integrated with , our Products , they can receive information about what you post or share .',\n",
    " 'Also , when you download or use such third party services , they can access your public profile on Facebook , and any information that you share with them .',\n",
    " 'Information collected by these third party services is subject to their own terms and policies , not this one .',\n",
    " 'Requesting any other data will require our approval New owner .',\n",
    " 'If the ownership or control of all or part of our Products or their assets changes , we may transfer your information to the new owner .',\n",
    " 'Sharing with Third Party Partners We work with third party partners who help us and improve our Products or who use Facebook Business Tools to grow their businesses , which makes it possible to operate our companies and provide free services to people around the world .',\n",
    " \"We do n't sell any of your information to anyone , and we never will .\",\n",
    " 'We also impose strict restrictions on how our partners can use and disclose the data we provide .',\n",
    " 'Here are the types of third parties we share information with : Partners who use our analytics services .',\n",
    " 'Advertisers .',\n",
    " \"We provide advertisers with reports about the kinds of people seeing their ads and how their ads are performing , but we do n't share information that personally identifies you ( information such as your name or email address that by itself can be used to contact you or identifies who you are ) unless you give us permission .\",\n",
    " 'We also confirm which Facebook ads led you to make a purchase or take an action with an advertiser .',\n",
    " 'Measurement partners .',\n",
    " 'Partners offering goods and services in our Products .',\n",
    " \"When you delete your account , we delete things you have posted , such as your photos and status updates , and you wo n't be able to recover that information later .\",\n",
    " \"Information that others have shared about you is n't part of your account and wo n't be deleted .\",\n",
    " 'To delete your account at any time , please visit the Facebook Settings and Insta gram Settings .',\n",
    " 'Your information may , for example , be transferred or transmitted to , or stored and processed in the United States or other countries outside of where you live for the purposes as described in this policy .',\n",
    " \"We 'll notify you before we make changes to this policy and give you the opportunity to review the revised policy before you choose to continue using our Products .\"]"
   ]
  },
  {
   "cell_type": "code",
   "execution_count": 21,
   "metadata": {},
   "outputs": [],
   "source": [
    "sim_sentence = list(set(sim_sentence))"
   ]
  },
  {
   "cell_type": "code",
   "execution_count": 22,
   "metadata": {},
   "outputs": [],
   "source": [
    "sim_sentence_lower = list(map(remove_punctuation, sim_sentence))"
   ]
  },
  {
   "cell_type": "code",
   "execution_count": 23,
   "metadata": {},
   "outputs": [],
   "source": [
    "sim_sentence_lemma = list(map(text_preprocessing, sim_sentence_lower))"
   ]
  },
  {
   "cell_type": "code",
   "execution_count": 24,
   "metadata": {},
   "outputs": [],
   "source": [
    "sim_sentence_vector = vectorizer.transform(sim_sentence_lemma)"
   ]
  },
  {
   "cell_type": "code",
   "execution_count": 26,
   "metadata": {},
   "outputs": [],
   "source": [
    "predicted = RFC.predict(sim_sentence_vector)"
   ]
  },
  {
   "cell_type": "code",
   "execution_count": 27,
   "metadata": {},
   "outputs": [
    {
     "data": {
      "text/plain": [
       "array([0, 1, 1, 1, 0, 1, 1, 1, 0, 1, 1, 1, 0, 1, 1, 0, 1, 1, 0, 1, 0, 0,\n",
       "       0, 1, 0, 1, 1, 1, 1, 1, 1, 0, 1, 1, 1, 1, 1, 0, 1, 1, 0, 1, 1, 0,\n",
       "       0, 0, 0, 1, 1, 1, 1, 1, 1, 0, 1], dtype=int64)"
      ]
     },
     "execution_count": 27,
     "metadata": {},
     "output_type": "execute_result"
    }
   ],
   "source": [
    "predicted"
   ]
  },
  {
   "cell_type": "markdown",
   "metadata": {},
   "source": [
    "#### Good Privacy Text"
   ]
  },
  {
   "cell_type": "code",
   "execution_count": 31,
   "metadata": {},
   "outputs": [
    {
     "name": "stdout",
     "output_type": "stream",
     "text": [
      "Requesting any other data will require our approval New owner .\n",
      "Your information is shared with others in the following ways : Sharing on Facebook Products People and accounts you share and communicate with When you share and communicate using our Products , you choose the audience for what you share .\n",
      "We also use your information to respond to you when you contact us .\n",
      "When you choose to use third party apps , websites , or other services that use , or are integrated with , our Products , they can receive information about what you post or share .\n",
      "Data with special protections : You can choose to provide information in your Facebook profile fields or Life Events about your religious views , political views , who you are `` interested in , `` or your health .\n",
      "Learn how we share information with these partners .\n",
      "We 'll notify you before we make changes to this policy and give you the opportunity to review the revised policy before you choose to continue using our Products .\n",
      "This includes payment information , such as your credit or debit card number and other card information ; other account and authentication information ; and billing , shipping and contact details Things others do and information they provide about you .\n",
      "Information that others have shared about you is n't part of your account and wo n't be deleted .\n",
      "When you delete your account , we delete things you have posted , such as your photos and status updates , and you wo n't be able to recover that information later .\n",
      "Apps , websites , and third party integration s on or using our Products .\n",
      "We do n't sell any of your information to anyone , and we never will .\n",
      "To delete your account at any time , please visit the Facebook Settings and Insta gram Settings .\n",
      "For example , people can share a photo of you in a Story , mention or tag you at a location in a post , or share information about you in their posts or messages .\n",
      "People can also use our Products to create and share content about you with the audience they choose .\n"
     ]
    }
   ],
   "source": [
    "for i,sentence in enumerate(sim_sentence):\n",
    "    if predicted[i] == 0:\n",
    "        if len(sentence.split(\" \")) > 5:\n",
    "            print(sentence )\n",
    "        "
   ]
  },
  {
   "cell_type": "code",
   "execution_count": null,
   "metadata": {},
   "outputs": [],
   "source": []
  }
 ],
 "metadata": {
  "colab": {
   "include_colab_link": true,
   "name": "privacy_policy_predictor.ipynb",
   "provenance": []
  },
  "kernelspec": {
   "display_name": "Python 3",
   "language": "python",
   "name": "python3"
  },
  "language_info": {
   "codemirror_mode": {
    "name": "ipython",
    "version": 3
   },
   "file_extension": ".py",
   "mimetype": "text/x-python",
   "name": "python",
   "nbconvert_exporter": "python",
   "pygments_lexer": "ipython3",
   "version": "3.8.3"
  }
 },
 "nbformat": 4,
 "nbformat_minor": 1
}
